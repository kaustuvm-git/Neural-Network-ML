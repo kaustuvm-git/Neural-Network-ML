{
 "cells": [
  {
   "cell_type": "code",
   "execution_count": 1,
   "metadata": {},
   "outputs": [],
   "source": [
    "import numpy as np\n",
    "from scipy.optimize import minimize\n",
    "from scipy.io import loadmat\n",
    "from math import sqrt"
   ]
  },
  {
   "cell_type": "code",
   "execution_count": 2,
   "metadata": {},
   "outputs": [],
   "source": [
    "def initializeWeights(n_in, n_out):\n",
    "    epsilon = sqrt(6) / sqrt(n_in + n_out + 1)\n",
    "    W = (np.random.rand(n_out, n_in + 1) * 2 * epsilon) - epsilon\n",
    "    return W"
   ]
  },
  {
   "cell_type": "code",
   "execution_count": 3,
   "metadata": {},
   "outputs": [],
   "source": [
    "def sigmoid(z):\n",
    "    return (1.0 / (1.0 + np.exp(-z)))"
   ]
  },
  {
   "cell_type": "code",
   "execution_count": 4,
   "metadata": {},
   "outputs": [],
   "source": [
    "featureIndices=[]\n",
    "def preprocess():\n",
    "    mnist = loadmat('mnist_all.mat')\n",
    "    train_data, train_label, validation_data, validation_label = preprocess_train_data(mnist)\n",
    "    test_data, test_label = preprocess_test_data(mnist)\n",
    "    \n",
    "    # Feature selection\n",
    "    combined  = np.concatenate((train_data, validation_data),axis=0)\n",
    "    reference = combined[0,:]\n",
    "    boolean_value_columns = np.all(combined == reference, axis = 0)\n",
    "    \n",
    "    \n",
    "    featureCount = 0\n",
    "    global featureIndices\n",
    "    \n",
    "    for i in range(len(boolean_value_columns)):\n",
    "        if boolean_value_columns[i]==False:\n",
    "            featureCount += 1\n",
    "            featureIndices.append(i)\n",
    "    print(\"Total number of selected features : \", featureCount)\n",
    "    \n",
    "    final = combined[:,~boolean_value_columns]\n",
    "    tr_R = train_data.shape[0]\n",
    "    vl_R = validation_data.shape[0]\n",
    "    \n",
    "    train_data      = final[0:tr_R,:]\n",
    "    validation_data = final[tr_R:,:]\n",
    "    test_data = test_data[:,~boolean_value_columns]\n",
    "    \n",
    "    return train_data, train_label, validation_data, validation_label, test_data, test_label"
   ]
  },
  {
   "cell_type": "code",
   "execution_count": 5,
   "metadata": {},
   "outputs": [],
   "source": [
    "def preprocess_train_data(mnist):\n",
    "    \n",
    "    label_lst = []\n",
    "    for i in range(10):\n",
    "        idx = 'train'+ str(i)\n",
    "        train_mat = mnist[idx]\n",
    "        labels = np.full((train_mat.shape[0],1),i)\n",
    "        labeled_train_mat = np.concatenate((train_mat,labels),axis=1)\n",
    "        label_lst.append(labeled_train_mat)\n",
    "\n",
    "    all_labeled_train = np.concatenate((label_lst[0],label_lst[1],label_lst[2],\n",
    "                                        label_lst[3],label_lst[4],label_lst[5],\n",
    "                                        label_lst[6],label_lst[7],label_lst[8],\n",
    "                                        label_lst[9]), axis=0)\n",
    "    \n",
    "    np.random.shuffle(all_labeled_train)\n",
    "    \n",
    "    labeled_train = all_labeled_train[0:50000,:]\n",
    "    train_data    = (labeled_train[:,0:784])/255.0\n",
    "    train_label   = labeled_train[:,784]\n",
    "\n",
    "    labeled_validation = all_labeled_train[50000:60000,:]\n",
    "    validation_data    = (labeled_validation[:,0:784])/255.0\n",
    "    validation_label   = labeled_validation[:,784]\n",
    "    \n",
    "    return train_data, train_label, validation_data, validation_label"
   ]
  },
  {
   "cell_type": "code",
   "execution_count": 6,
   "metadata": {},
   "outputs": [],
   "source": [
    "def preprocess_test_data(mnist):\n",
    "    label_lst = []\n",
    "    for i in range(10):\n",
    "        idx = 'test'+ str(i)\n",
    "        test_mat = mnist[idx]\n",
    "        labels = np.full((test_mat.shape[0],1),i)\n",
    "        labeled_test_mat = np.concatenate((test_mat,labels),axis=1)\n",
    "        label_lst.append(labeled_test_mat)\n",
    "\n",
    "    all_labeled_test = np.concatenate((label_lst[0],label_lst[1],label_lst[2],\n",
    "                                       label_lst[3],label_lst[4],label_lst[5],\n",
    "                                       label_lst[6],label_lst[7],label_lst[8],\n",
    "                                       label_lst[9]), axis=0)\n",
    "\n",
    "    np.random.shuffle(all_labeled_test)\n",
    "    \n",
    "    test_data    = (all_labeled_test[:,0:784])/255.0\n",
    "    test_label   = all_labeled_test[:,784]\n",
    "    \n",
    "    return test_data, test_label"
   ]
  },
  {
   "cell_type": "code",
   "execution_count": 7,
   "metadata": {},
   "outputs": [],
   "source": [
    "def nnObjFunction(params, *args):\n",
    "    pass"
   ]
  },
  {
   "cell_type": "code",
   "execution_count": 8,
   "metadata": {},
   "outputs": [],
   "source": [
    "def nnPredict(w1, w2, data):\n",
    "    pass"
   ]
  },
  {
   "cell_type": "code",
   "execution_count": 9,
   "metadata": {},
   "outputs": [
    {
     "name": "stdout",
     "output_type": "stream",
     "text": [
      "Total number of selected features :  717\n"
     ]
    }
   ],
   "source": [
    "train_data, train_label, validation_data, validation_label, test_data, test_label = preprocess()"
   ]
  },
  {
   "cell_type": "code",
   "execution_count": null,
   "metadata": {},
   "outputs": [],
   "source": []
  }
 ],
 "metadata": {
  "kernelspec": {
   "display_name": "Python 3",
   "language": "python",
   "name": "python3"
  },
  "language_info": {
   "codemirror_mode": {
    "name": "ipython",
    "version": 3
   },
   "file_extension": ".py",
   "mimetype": "text/x-python",
   "name": "python",
   "nbconvert_exporter": "python",
   "pygments_lexer": "ipython3",
   "version": "3.8.5"
  }
 },
 "nbformat": 4,
 "nbformat_minor": 4
}
